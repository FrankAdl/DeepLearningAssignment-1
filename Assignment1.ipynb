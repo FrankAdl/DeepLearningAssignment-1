{
 "cells": [
  {
   "cell_type": "code",
   "execution_count": 1,
   "metadata": {},
   "outputs": [],
   "source": [
    "import pandas as pd\n",
    "import numpy as np\n",
    "import matplotlib.pyplot as plt\n",
    "from sklearn.metrics import accuracy_score, classification_report, confusion_matrix"
   ]
  },
  {
   "cell_type": "code",
   "execution_count": 2,
   "metadata": {},
   "outputs": [],
   "source": [
    "# from sklearn.datasets import load_svmlight_file\n",
    "# features, labels = load_svmlight_file('diabetes_scale')"
   ]
  },
  {
   "cell_type": "code",
   "execution_count": 3,
   "metadata": {},
   "outputs": [
    {
     "data": {
      "text/html": [
       "<div>\n",
       "<style scoped>\n",
       "    .dataframe tbody tr th:only-of-type {\n",
       "        vertical-align: middle;\n",
       "    }\n",
       "\n",
       "    .dataframe tbody tr th {\n",
       "        vertical-align: top;\n",
       "    }\n",
       "\n",
       "    .dataframe thead th {\n",
       "        text-align: right;\n",
       "    }\n",
       "</style>\n",
       "<table border=\"1\" class=\"dataframe\">\n",
       "  <thead>\n",
       "    <tr style=\"text-align: right;\">\n",
       "      <th></th>\n",
       "      <th>Pregnancies</th>\n",
       "      <th>Glucose</th>\n",
       "      <th>BloodPressure</th>\n",
       "      <th>SkinThickness</th>\n",
       "      <th>Insulin</th>\n",
       "      <th>BMI</th>\n",
       "      <th>DiabetesPedigreeFunction</th>\n",
       "      <th>Age</th>\n",
       "      <th>Outcome</th>\n",
       "    </tr>\n",
       "  </thead>\n",
       "  <tbody>\n",
       "    <tr>\n",
       "      <th>0</th>\n",
       "      <td>6</td>\n",
       "      <td>148</td>\n",
       "      <td>72</td>\n",
       "      <td>35</td>\n",
       "      <td>0</td>\n",
       "      <td>33.6</td>\n",
       "      <td>0.627</td>\n",
       "      <td>50</td>\n",
       "      <td>1</td>\n",
       "    </tr>\n",
       "    <tr>\n",
       "      <th>1</th>\n",
       "      <td>1</td>\n",
       "      <td>85</td>\n",
       "      <td>66</td>\n",
       "      <td>29</td>\n",
       "      <td>0</td>\n",
       "      <td>26.6</td>\n",
       "      <td>0.351</td>\n",
       "      <td>31</td>\n",
       "      <td>0</td>\n",
       "    </tr>\n",
       "    <tr>\n",
       "      <th>2</th>\n",
       "      <td>8</td>\n",
       "      <td>183</td>\n",
       "      <td>64</td>\n",
       "      <td>0</td>\n",
       "      <td>0</td>\n",
       "      <td>23.3</td>\n",
       "      <td>0.672</td>\n",
       "      <td>32</td>\n",
       "      <td>1</td>\n",
       "    </tr>\n",
       "    <tr>\n",
       "      <th>3</th>\n",
       "      <td>1</td>\n",
       "      <td>89</td>\n",
       "      <td>66</td>\n",
       "      <td>23</td>\n",
       "      <td>94</td>\n",
       "      <td>28.1</td>\n",
       "      <td>0.167</td>\n",
       "      <td>21</td>\n",
       "      <td>0</td>\n",
       "    </tr>\n",
       "    <tr>\n",
       "      <th>4</th>\n",
       "      <td>0</td>\n",
       "      <td>137</td>\n",
       "      <td>40</td>\n",
       "      <td>35</td>\n",
       "      <td>168</td>\n",
       "      <td>43.1</td>\n",
       "      <td>2.288</td>\n",
       "      <td>33</td>\n",
       "      <td>1</td>\n",
       "    </tr>\n",
       "  </tbody>\n",
       "</table>\n",
       "</div>"
      ],
      "text/plain": [
       "   Pregnancies  Glucose  BloodPressure  SkinThickness  Insulin   BMI  \\\n",
       "0            6      148             72             35        0  33.6   \n",
       "1            1       85             66             29        0  26.6   \n",
       "2            8      183             64              0        0  23.3   \n",
       "3            1       89             66             23       94  28.1   \n",
       "4            0      137             40             35      168  43.1   \n",
       "\n",
       "   DiabetesPedigreeFunction  Age  Outcome  \n",
       "0                     0.627   50        1  \n",
       "1                     0.351   31        0  \n",
       "2                     0.672   32        1  \n",
       "3                     0.167   21        0  \n",
       "4                     2.288   33        1  "
      ]
     },
     "execution_count": 3,
     "metadata": {},
     "output_type": "execute_result"
    }
   ],
   "source": [
    "df = pd.read_csv(\"diabetes.csv\")\n",
    "df.head()"
   ]
  },
  {
   "cell_type": "code",
   "execution_count": 4,
   "metadata": {},
   "outputs": [
    {
     "name": "stdout",
     "output_type": "stream",
     "text": [
      "Pregnancies                   0\n",
      "Glucose                       5\n",
      "BloodPressure                35\n",
      "SkinThickness               227\n",
      "Insulin                     374\n",
      "BMI                          11\n",
      "DiabetesPedigreeFunction      0\n",
      "Age                           0\n",
      "Outcome                       0\n",
      "dtype: int64\n"
     ]
    }
   ],
   "source": [
    "bad_columns = ['Glucose','BloodPressure','SkinThickness','Insulin','BMI']\n",
    "df[bad_columns] = df[bad_columns].replace(0,np.NaN)\n",
    "print(df.isnull().sum())"
   ]
  },
  {
   "cell_type": "code",
   "execution_count": 5,
   "metadata": {},
   "outputs": [
    {
     "name": "stdout",
     "output_type": "stream",
     "text": [
      "Pregnancies                 0\n",
      "Glucose                     0\n",
      "BloodPressure               0\n",
      "SkinThickness               0\n",
      "Insulin                     0\n",
      "BMI                         0\n",
      "DiabetesPedigreeFunction    0\n",
      "Age                         0\n",
      "Outcome                     0\n",
      "dtype: int64\n"
     ]
    }
   ],
   "source": [
    "for col in bad_columns:\n",
    "    df[col].fillna(df[col].median(), inplace=True)\n",
    "\n",
    "print(df.isnull().sum())\n"
   ]
  },
  {
   "cell_type": "code",
   "execution_count": 6,
   "metadata": {},
   "outputs": [],
   "source": [
    "import seaborn as sns"
   ]
  },
  {
   "cell_type": "code",
   "execution_count": 7,
   "metadata": {},
   "outputs": [],
   "source": [
    "# sns.pairplot(df, hue = \"Outcome\")"
   ]
  },
  {
   "cell_type": "code",
   "execution_count": 8,
   "metadata": {},
   "outputs": [],
   "source": [
    "from sklearn.model_selection import train_test_split\n",
    "X = df.drop(\"Outcome\", axis = 1) # independent features\n",
    "y = df[\"Outcome\"]  #dependent features\n",
    "X_train, X_test, y_train, y_test = train_test_split(X, y, test_size = 0.2, random_state=42)"
   ]
  },
  {
   "cell_type": "code",
   "execution_count": 9,
   "metadata": {},
   "outputs": [],
   "source": [
    "# X_train, X_test, y_train, y_test = train_test_split(features, labels, test_size=0.2, random_state=42)"
   ]
  },
  {
   "cell_type": "code",
   "execution_count": 10,
   "metadata": {},
   "outputs": [],
   "source": [
    "from sklearn.preprocessing import StandardScaler\n",
    "X = StandardScaler().fit_transform(X)"
   ]
  },
  {
   "cell_type": "code",
   "execution_count": 11,
   "metadata": {},
   "outputs": [],
   "source": [
    "X_train=X_train.values\n",
    "X_test=X_test.values\n",
    "y_train=y_train.values\n",
    "y_test=y_test.values"
   ]
  },
  {
   "cell_type": "code",
   "execution_count": 12,
   "metadata": {},
   "outputs": [],
   "source": [
    "# X_train = pd.DataFrame(X_train.toarray())\n",
    "# X_test = pd.DataFrame(X_test.toarray())\n",
    "# # y_train = pd.DataFrame(y_train.toarray())\n",
    "# # y_test = pd.DataFrame(y_test.toarray())"
   ]
  },
  {
   "cell_type": "code",
   "execution_count": 13,
   "metadata": {},
   "outputs": [
    {
     "name": "stdout",
     "output_type": "stream",
     "text": [
      "(614, 8)\n",
      "(154, 8)\n",
      "(614,)\n",
      "(154,)\n"
     ]
    }
   ],
   "source": [
    "print(X_train.shape)\n",
    "print(X_test.shape)\n",
    "print(y_train.shape)\n",
    "print(y_test.shape)"
   ]
  },
  {
   "cell_type": "code",
   "execution_count": 14,
   "metadata": {},
   "outputs": [
    {
     "data": {
      "text/plain": [
       "array([  2.   ,  84.   ,  72.   ,  29.   , 125.   ,  32.3  ,   0.304,\n",
       "        21.   ])"
      ]
     },
     "execution_count": 14,
     "metadata": {},
     "output_type": "execute_result"
    }
   ],
   "source": [
    "X_train[0]"
   ]
  },
  {
   "cell_type": "code",
   "execution_count": 24,
   "metadata": {},
   "outputs": [],
   "source": [
    "from statistics import mean\n",
    "\n",
    "\n",
    "class Perceptron:\n",
    "    \"\"\"\n",
    "    Perceptron Classifier:\n",
    "    \n",
    "    Parameters:\n",
    "    -----------\n",
    "    learning_rate: float number, default 0.01\n",
    "        Learning rate of the model, between 0.0 and 1.0\n",
    "    \n",
    "    epochs: integer number, default 1000\n",
    "        Number of passes over the trainin set\n",
    "    \n",
    "    Attributes:\n",
    "    -----------\n",
    "    weight: 1D Numpy array, default None\n",
    "        Weight after fitting\n",
    "    \n",
    "    bias: integer number, default None\n",
    "        Bias in each epoch\n",
    "        \n",
    "    activation_function: unit step function\n",
    "        Activation function of the model\n",
    "    \"\"\"\n",
    "    def __init__(self, learning_rate = 0.001, epochs = 10000):\n",
    "        self.learning_rate = learning_rate\n",
    "        self.epochs = epochs\n",
    "        self.activation_function = self.unit_step_function\n",
    "        self.weight = None\n",
    "        self.bias = None\n",
    "        \n",
    "        self.history = []\n",
    "    \n",
    "    def unit_step_function(self, X):\n",
    "        return np.where(X >= 0, 1, 0)\n",
    "    \n",
    "    def fit(self, X, y):\n",
    "        n_rows, n_cols = X.shape\n",
    "        # initial weight value\n",
    "        self.weight = np.zeros(n_cols) \n",
    "        self.bias = 0\n",
    "        \n",
    "        for _ in range(self.epochs):   \n",
    "            for index, x in enumerate(X):                \n",
    "                y_pred = self.predict(x)\n",
    "            \n",
    "                update = self.learning_rate * (y[index] - y_pred)\n",
    "                self.weight += update * x\n",
    "                self.bias += update\n",
    "            \n",
    "            pred = self.predict(X)\n",
    "            self.history.append(accuracy_score(y, pred))   \n",
    "            \n",
    "                      \n",
    "    def predict(self, X):\n",
    "        output = np.dot(X, self.weight) + self.bias\n",
    "        # print(output)\n",
    "        y_pred = self.activation_function(output)\n",
    "        return y_pred\n",
    "    \n",
    "    def get_acc(self):\n",
    "        best_acc = np.max(self.history)\n",
    "        mean_acc = np.mean(self.history)\n",
    "        return best_acc, mean_acc\n",
    "    "
   ]
  },
  {
   "cell_type": "code",
   "execution_count": 25,
   "metadata": {},
   "outputs": [
    {
     "name": "stdout",
     "output_type": "stream",
     "text": [
      "----------------Start Training----------------\n",
      "--------  Current Epochs: 100  --------\n",
      "--------  Current Learning Rate: 0.1  --------\n",
      "--------  Current Learning Rate: 0.01  --------\n",
      "--------  Current Learning Rate: 0.001  --------\n",
      "--------  Current Epochs: 500  --------\n",
      "--------  Current Learning Rate: 0.1  --------\n",
      "--------  Current Learning Rate: 0.01  --------\n",
      "--------  Current Learning Rate: 0.001  --------\n",
      "--------  Current Epochs: 1000  --------\n",
      "--------  Current Learning Rate: 0.1  --------\n",
      "--------  Current Learning Rate: 0.01  --------\n",
      "--------  Current Learning Rate: 0.001  --------\n",
      "--------  Current Epochs: 10000  --------\n",
      "--------  Current Learning Rate: 0.1  --------\n",
      "--------  Current Learning Rate: 0.01  --------\n",
      "--------  Current Learning Rate: 0.001  --------\n",
      "----------------End Training----------------\n"
     ]
    }
   ],
   "source": [
    "\n",
    "epochs = [100, 500, 1000, 10000]\n",
    "learning_rates = [0.1, 0.01, 0.001]\n",
    "\n",
    "results = []\n",
    "\n",
    "print(\"----------------Start Training----------------\")\n",
    "for epo in epochs:\n",
    "    print(\"--------  Current Epochs: {}  --------\".format(epo))\n",
    "    for lr in learning_rates:\n",
    "        print(\"--------  Current Learning Rate: {}  --------\".format(lr))\n",
    "        model = Perceptron(lr, epo)\n",
    "        model.fit(X_train, y_train)\n",
    "        y_test_pred = model.predict(X_test)\n",
    "        y_train_pred = model.predict(X_train)\n",
    "        \n",
    "        train_acc = accuracy_score(y_train, y_train_pred)\n",
    "        test_acc = accuracy_score(y_test, y_test_pred)\n",
    "        \n",
    "        result_dict = {\"Epochs\" : epo, \"Learning_rate\" : lr, \"Test_accuracy\" : test_acc, \"Mean_train_accuracy\" : model.get_acc()[1], \"Best_train_accuracy\" : model.get_acc()[0]}        \n",
    "        results.append(result_dict)\n",
    "        \n",
    "print(\"----------------End Training----------------\")\n",
    "        \n",
    "        "
   ]
  },
  {
   "cell_type": "code",
   "execution_count": 26,
   "metadata": {},
   "outputs": [
    {
     "data": {
      "text/html": [
       "<div>\n",
       "<style scoped>\n",
       "    .dataframe tbody tr th:only-of-type {\n",
       "        vertical-align: middle;\n",
       "    }\n",
       "\n",
       "    .dataframe tbody tr th {\n",
       "        vertical-align: top;\n",
       "    }\n",
       "\n",
       "    .dataframe thead th {\n",
       "        text-align: right;\n",
       "    }\n",
       "</style>\n",
       "<table border=\"1\" class=\"dataframe\">\n",
       "  <thead>\n",
       "    <tr style=\"text-align: right;\">\n",
       "      <th></th>\n",
       "      <th>Epochs</th>\n",
       "      <th>Learning_rate</th>\n",
       "      <th>Test_accuracy</th>\n",
       "      <th>Mean_train_accuracy</th>\n",
       "      <th>Best_train_accuracy</th>\n",
       "    </tr>\n",
       "  </thead>\n",
       "  <tbody>\n",
       "    <tr>\n",
       "      <th>0</th>\n",
       "      <td>100</td>\n",
       "      <td>0.100</td>\n",
       "      <td>0.649351</td>\n",
       "      <td>0.552362</td>\n",
       "      <td>0.675896</td>\n",
       "    </tr>\n",
       "    <tr>\n",
       "      <th>1</th>\n",
       "      <td>100</td>\n",
       "      <td>0.010</td>\n",
       "      <td>0.649351</td>\n",
       "      <td>0.552362</td>\n",
       "      <td>0.675896</td>\n",
       "    </tr>\n",
       "    <tr>\n",
       "      <th>2</th>\n",
       "      <td>100</td>\n",
       "      <td>0.001</td>\n",
       "      <td>0.649351</td>\n",
       "      <td>0.552362</td>\n",
       "      <td>0.675896</td>\n",
       "    </tr>\n",
       "    <tr>\n",
       "      <th>3</th>\n",
       "      <td>500</td>\n",
       "      <td>0.100</td>\n",
       "      <td>0.409091</td>\n",
       "      <td>0.543104</td>\n",
       "      <td>0.695440</td>\n",
       "    </tr>\n",
       "    <tr>\n",
       "      <th>4</th>\n",
       "      <td>500</td>\n",
       "      <td>0.010</td>\n",
       "      <td>0.409091</td>\n",
       "      <td>0.543104</td>\n",
       "      <td>0.695440</td>\n",
       "    </tr>\n",
       "    <tr>\n",
       "      <th>5</th>\n",
       "      <td>500</td>\n",
       "      <td>0.001</td>\n",
       "      <td>0.409091</td>\n",
       "      <td>0.543104</td>\n",
       "      <td>0.695440</td>\n",
       "    </tr>\n",
       "    <tr>\n",
       "      <th>6</th>\n",
       "      <td>1000</td>\n",
       "      <td>0.100</td>\n",
       "      <td>0.428571</td>\n",
       "      <td>0.530951</td>\n",
       "      <td>0.695440</td>\n",
       "    </tr>\n",
       "    <tr>\n",
       "      <th>7</th>\n",
       "      <td>1000</td>\n",
       "      <td>0.010</td>\n",
       "      <td>0.428571</td>\n",
       "      <td>0.530951</td>\n",
       "      <td>0.695440</td>\n",
       "    </tr>\n",
       "    <tr>\n",
       "      <th>8</th>\n",
       "      <td>1000</td>\n",
       "      <td>0.001</td>\n",
       "      <td>0.428571</td>\n",
       "      <td>0.530951</td>\n",
       "      <td>0.695440</td>\n",
       "    </tr>\n",
       "    <tr>\n",
       "      <th>9</th>\n",
       "      <td>10000</td>\n",
       "      <td>0.100</td>\n",
       "      <td>0.662338</td>\n",
       "      <td>0.576763</td>\n",
       "      <td>0.749186</td>\n",
       "    </tr>\n",
       "    <tr>\n",
       "      <th>10</th>\n",
       "      <td>10000</td>\n",
       "      <td>0.010</td>\n",
       "      <td>0.662338</td>\n",
       "      <td>0.576763</td>\n",
       "      <td>0.749186</td>\n",
       "    </tr>\n",
       "    <tr>\n",
       "      <th>11</th>\n",
       "      <td>10000</td>\n",
       "      <td>0.001</td>\n",
       "      <td>0.662338</td>\n",
       "      <td>0.576763</td>\n",
       "      <td>0.749186</td>\n",
       "    </tr>\n",
       "  </tbody>\n",
       "</table>\n",
       "</div>"
      ],
      "text/plain": [
       "    Epochs  Learning_rate  Test_accuracy  Mean_train_accuracy  \\\n",
       "0      100          0.100       0.649351             0.552362   \n",
       "1      100          0.010       0.649351             0.552362   \n",
       "2      100          0.001       0.649351             0.552362   \n",
       "3      500          0.100       0.409091             0.543104   \n",
       "4      500          0.010       0.409091             0.543104   \n",
       "5      500          0.001       0.409091             0.543104   \n",
       "6     1000          0.100       0.428571             0.530951   \n",
       "7     1000          0.010       0.428571             0.530951   \n",
       "8     1000          0.001       0.428571             0.530951   \n",
       "9    10000          0.100       0.662338             0.576763   \n",
       "10   10000          0.010       0.662338             0.576763   \n",
       "11   10000          0.001       0.662338             0.576763   \n",
       "\n",
       "    Best_train_accuracy  \n",
       "0              0.675896  \n",
       "1              0.675896  \n",
       "2              0.675896  \n",
       "3              0.695440  \n",
       "4              0.695440  \n",
       "5              0.695440  \n",
       "6              0.695440  \n",
       "7              0.695440  \n",
       "8              0.695440  \n",
       "9              0.749186  \n",
       "10             0.749186  \n",
       "11             0.749186  "
      ]
     },
     "execution_count": 26,
     "metadata": {},
     "output_type": "execute_result"
    }
   ],
   "source": [
    "results_df = pd.DataFrame(results)\n",
    "results_df"
   ]
  },
  {
   "cell_type": "code",
   "execution_count": 29,
   "metadata": {},
   "outputs": [
    {
     "data": {
      "image/png": "[encoded data removed]",
      "text/plain": [
       "<Figure size 432x288 with 1 Axes>"
      ]
     },
     "metadata": {
      "needs_background": "light"
     },
     "output_type": "display_data"
    }
   ],
   "source": [
    "plt.plot(results_df[\"Epochs\"], results_df[\"Best_train_accuracy\"], marker = \"o\", color = \"r\")\n",
    "plt.plot(results_df[\"Epochs\"], results_df[\"Test_accuracy\"], marker = \"o\", color = \"b\")\n",
    "plt.xlabel(\"Training Epochs\")\n",
    "plt.ylabel(\"Accuracy\")\n",
    "plt.title(\"Epochs vs Accuracy\")\n",
    "plt.show()"
   ]
  },
  {
   "cell_type": "code",
   "execution_count": 22,
   "metadata": {},
   "outputs": [],
   "source": [
    "best_model = Perceptron(0.1, 10000)\n",
    "best_model.fit(X_train, y_train)\n",
    "\n",
    "y_train_pred = best_model.predict(X_train)\n",
    "y_test_pred = best_model.predict(X_test)"
   ]
  },
  {
   "cell_type": "code",
   "execution_count": 31,
   "metadata": {},
   "outputs": [
    {
     "name": "stdout",
     "output_type": "stream",
     "text": [
      "0.6938110749185668\n",
      "0.6623376623376623\n"
     ]
    }
   ],
   "source": [
    "train_acc = accuracy_score(y_train, y_train_pred)\n",
    "test_acc = accuracy_score(y_test, y_test_pred)\n",
    "print(train_acc)\n",
    "print(test_acc)"
   ]
  },
  {
   "cell_type": "code",
   "execution_count": 32,
   "metadata": {},
   "outputs": [
    {
     "name": "stdout",
     "output_type": "stream",
     "text": [
      "              precision    recall  f1-score   support\n",
      "\n",
      "           0       0.86      0.57      0.68        99\n",
      "           1       0.52      0.84      0.64        55\n",
      "\n",
      "    accuracy                           0.66       154\n",
      "   macro avg       0.69      0.70      0.66       154\n",
      "weighted avg       0.74      0.66      0.67       154\n",
      "\n",
      "              precision    recall  f1-score   support\n",
      "\n",
      "           0       0.88      0.62      0.72       401\n",
      "           1       0.54      0.84      0.66       213\n",
      "\n",
      "    accuracy                           0.69       614\n",
      "   macro avg       0.71      0.73      0.69       614\n",
      "weighted avg       0.76      0.69      0.70       614\n",
      "\n"
     ]
    }
   ],
   "source": [
    "print(classification_report(y_test, y_test_pred, labels = [0, 1]))\n",
    "print(classification_report(y_train, y_train_pred, labels = [0, 1]))"
   ]
  },
  {
   "cell_type": "code",
   "execution_count": null,
   "metadata": {},
   "outputs": [],
   "source": [
    "# plt.figure(figsize=(8,6))\n",
    "# cm = confusion_matrix(y_test, model_pred)\n",
    "# sns.heatmap(cm, annot = True)"
   ]
  },
  {
   "cell_type": "code",
   "execution_count": null,
   "metadata": {},
   "outputs": [],
   "source": [
    "# from sklearn.metrics import roc_curve\n",
    "# fpr, tpr, thresholds = roc_curve(y_test, model_pred)\n",
    "# plt.plot(fpr, tpr, marker = \"o\")\n",
    "# plt.title(\"ROC curve for model predictions\")\n",
    "# plt.show()"
   ]
  },
  {
   "cell_type": "code",
   "execution_count": null,
   "metadata": {},
   "outputs": [],
   "source": [
    "# model.plot_history()"
   ]
  }
 ],
 "metadata": {
  "kernelspec": {
   "display_name": "Python 3.9.7 ('base')",
   "language": "python",
   "name": "python3"
  },
  "language_info": {
   "codemirror_mode": {
    "name": "ipython",
    "version": 3
   },
   "file_extension": ".py",
   "mimetype": "text/x-python",
   "name": "python",
   "nbconvert_exporter": "python",
   "pygments_lexer": "ipython3",
   "version": "3.9.7"
  },
  "orig_nbformat": 4,
  "vscode": {
   "interpreter": {
    "hash": "40d3a090f54c6569ab1632332b64b2c03c39dcf918b08424e98f38b5ae0af88f"
   }
  }
 },
 "nbformat": 4,
 "nbformat_minor": 2
}
